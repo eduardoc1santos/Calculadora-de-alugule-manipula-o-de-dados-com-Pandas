{
 "cells": [
  {
   "cell_type": "markdown",
   "metadata": {},
   "source": [
    "# Bibliotecas"
   ]
  },
  {
   "cell_type": "code",
   "execution_count": 1,
   "metadata": {},
   "outputs": [],
   "source": [
    "from selenium import webdriver\n",
    "from selenium.webdriver.common.by import By\n",
    "import time\n",
    "from tqdm.notebook import tqdm\n",
    "import pandas as pd"
   ]
  },
  {
   "cell_type": "code",
   "execution_count": 2,
   "metadata": {},
   "outputs": [],
   "source": [
    "driver = webdriver.Firefox()"
   ]
  },
  {
   "cell_type": "code",
   "execution_count": 3,
   "metadata": {},
   "outputs": [],
   "source": [
    "#driver.implicitly_wait(10)\n",
    "#driver.maximize_window()"
   ]
  },
  {
   "cell_type": "markdown",
   "metadata": {},
   "source": [
    "# Capturando Site de Aluguel"
   ]
  },
  {
   "cell_type": "code",
   "execution_count": 28,
   "metadata": {},
   "outputs": [],
   "source": [
    "list_titulo_anuncio = list()\n",
    "list_endereco_anuncio = list()\n",
    "list_area_anuncio = list()\n",
    "list_numero_quartos = list()\n",
    "list_numero_banheiros = list()\n",
    "list_numero_garagem = list()\n",
    "list_preco = list()\n",
    "list_condominio = list()\n",
    "list_amenidades = list()"
   ]
  },
  {
   "cell_type": "code",
   "execution_count": 29,
   "metadata": {},
   "outputs": [],
   "source": [
    "# Desafios 1: Aumentar o número de busca para até 10 páginas\n",
    "# Desafios 2: Aumentar o filtro para capturar casas e apartamentos"
   ]
  },
  {
   "cell_type": "code",
   "execution_count": 30,
   "metadata": {
    "scrolled": true
   },
   "outputs": [
    {
     "data": {
      "application/vnd.jupyter.widget-view+json": {
       "model_id": "493d996f97ee4fdfb0007621826f55ae",
       "version_major": 2,
       "version_minor": 0
      },
      "text/plain": [
       "  0%|          | 0/5 [00:00<?, ?it/s]"
      ]
     },
     "metadata": {},
     "output_type": "display_data"
    },
    {
     "data": {
      "application/vnd.jupyter.widget-view+json": {
       "model_id": "fa81ea3c89c6478287156a60157b0dc9",
       "version_major": 2,
       "version_minor": 0
      },
      "text/plain": [
       "  0%|          | 0/36 [00:00<?, ?it/s]"
      ]
     },
     "metadata": {},
     "output_type": "display_data"
    },
    {
     "data": {
      "application/vnd.jupyter.widget-view+json": {
       "model_id": "7f202e5bfec44802a5bcf18e41e3e8ab",
       "version_major": 2,
       "version_minor": 0
      },
      "text/plain": [
       "  0%|          | 0/36 [00:00<?, ?it/s]"
      ]
     },
     "metadata": {},
     "output_type": "display_data"
    },
    {
     "data": {
      "application/vnd.jupyter.widget-view+json": {
       "model_id": "be097e0ee1ff4ab48287fc41ecc6cbd9",
       "version_major": 2,
       "version_minor": 0
      },
      "text/plain": [
       "  0%|          | 0/36 [00:00<?, ?it/s]"
      ]
     },
     "metadata": {},
     "output_type": "display_data"
    },
    {
     "data": {
      "application/vnd.jupyter.widget-view+json": {
       "model_id": "a55316054c1c48a2a4c1a5204bf9ba48",
       "version_major": 2,
       "version_minor": 0
      },
      "text/plain": [
       "  0%|          | 0/36 [00:00<?, ?it/s]"
      ]
     },
     "metadata": {},
     "output_type": "display_data"
    },
    {
     "data": {
      "application/vnd.jupyter.widget-view+json": {
       "model_id": "737790372f154b32a1cdbade37b7b547",
       "version_major": 2,
       "version_minor": 0
      },
      "text/plain": [
       "  0%|          | 0/36 [00:00<?, ?it/s]"
      ]
     },
     "metadata": {},
     "output_type": "display_data"
    }
   ],
   "source": [
    "pbar = tqdm(range(1,6))\n",
    "\n",
    "for pagina in pbar:\n",
    "\n",
    "    #Acessando a pagina de acordo com o indice\n",
    "    url = f'https://www.vivareal.com.br/aluguel/sp/sao-paulo/apartamento_residencial/?pagina={pagina}'\n",
    "    \n",
    "    #TQDM com a informação de progresso\n",
    "    pbar.set_description(\"Processando página %s\" % pagina)\n",
    "\n",
    "    #Faz requisição de acesso a página\n",
    "    driver.get(url)\n",
    "\n",
    "    #Acessa os anuncios atraves do nome da Classe html\n",
    "    resultados = driver.find_elements(By.CLASS_NAME,'property-card__content')\n",
    "\n",
    "    pbar2 = tqdm(resultados)\n",
    "    for elemento_1 in pbar2:\n",
    "\n",
    "        list_titulo_anuncio.append(elemento_1.find_element(By.CLASS_NAME,'property-card__title').text)\n",
    "        list_endereco_anuncio.append(elemento_1.find_element(By.CLASS_NAME,'property-card__address-container').text)\n",
    "        list_area_anuncio.append(elemento_1.find_element(By.CLASS_NAME,'property-card__detail-area').text)\n",
    "        list_numero_quartos.append(elemento_1.find_element(By.CLASS_NAME,'property-card__detail-room').text)\n",
    "        list_numero_banheiros.append(elemento_1.find_element(By.CLASS_NAME,'property-card__detail-bathroom').text)\n",
    "        list_numero_garagem.append(elemento_1.find_element(By.CLASS_NAME,'property-card__detail-garage').text)\n",
    "        list_preco.append(elemento_1.find_element(By.CLASS_NAME,'property-card__price').text)\n",
    "        \n",
    "        #Caso não tenha condominio ele retorna N/A\n",
    "        try:\n",
    "            list_condominio.append(elemento_1.find_element(By.CLASS_NAME,'property-card__price-details--condo').text)\n",
    "        except:\n",
    "            list_condominio.append('N/A')\n",
    "            \n",
    "        amenidade = elemento_1.find_elements(By.CLASS_NAME,'amenities__item')\n",
    "        list_amenidades.append([am.text for am in amenidade])      \n",
    "    "
   ]
  },
  {
   "cell_type": "markdown",
   "metadata": {},
   "source": [
    "# Tratamento das informações"
   ]
  },
  {
   "cell_type": "markdown",
   "metadata": {
    "heading_collapsed": true
   },
   "source": [
    "## Titulo"
   ]
  },
  {
   "cell_type": "code",
   "execution_count": 31,
   "metadata": {
    "hidden": true,
    "scrolled": true
   },
   "outputs": [
    {
     "data": {
      "text/plain": [
       "['Apartamento com 4 Quartos para Aluguel, 360m²',\n",
       " 'Apartamento com 2 Quartos para Aluguel, 120m²',\n",
       " 'Apartamento com 2 Quartos para Aluguel, 64m²',\n",
       " 'Apartamento com Quarto para Aluguel, 26m²',\n",
       " 'Apartamento com Quarto para Aluguel, 31m²',\n",
       " 'Apartamento com 3 Quartos para Aluguel, 126m²',\n",
       " 'Apartamento com 2 Quartos para Aluguel, 55m²',\n",
       " 'Apartamento com 2 Quartos para Aluguel, 74m²',\n",
       " 'Apartamento com 3 Quartos para Aluguel, 118m²',\n",
       " 'Apartamento com Quarto para Aluguel, 50m²',\n",
       " 'Apartamento com Quarto para Aluguel, 33m²',\n",
       " 'Apartamento com 2 Quartos para Aluguel, 219m²',\n",
       " 'Apartamento com Quarto para Aluguel, 66m²',\n",
       " 'Apartamento com 3 Quartos para Aluguel, 110m²',\n",
       " 'Apartamento com 2 Quartos para Aluguel, 67m²',\n",
       " 'Apartamento com 2 Quartos para Aluguel, 48m²',\n",
       " 'Apartamento com Quarto para Aluguel, 43m²',\n",
       " 'Apartamento com Quarto para Aluguel, 38m²',\n",
       " 'Apartamento com Quarto para Aluguel, 50m²',\n",
       " 'Apartamento com 2 Quartos para Aluguel, 79m²',\n",
       " 'Apartamento com Quarto para Aluguel, 60m²',\n",
       " 'Apartamento com 3 Quartos para Aluguel, 135m²',\n",
       " 'Apartamento com 3 Quartos para Aluguel, 229m²',\n",
       " 'Apartamento com 3 Quartos para Aluguel, 87m²',\n",
       " 'Apartamento com 3 Quartos para Aluguel, 74m²',\n",
       " 'Apartamento com Quarto para Aluguel, 52m²',\n",
       " 'Apartamento com Quarto para Aluguel, 18m²',\n",
       " 'Apartamento com 2 Quartos para Aluguel, 50m²',\n",
       " 'Apartamento com Quarto para Aluguel, 32m²',\n",
       " 'Apartamento com 3 Quartos para Aluguel, 140m²',\n",
       " 'Apartamento com 3 Quartos para Aluguel, 200m²',\n",
       " 'Apartamento com Quarto para Aluguel, 57m²',\n",
       " 'Apartamento com 2 Quartos para Aluguel, 60m²',\n",
       " 'Apartamento com 3 Quartos para Aluguel, 98m²',\n",
       " 'Apartamento com 3 Quartos para Aluguel, 93m²',\n",
       " 'Apartamento com Quarto para Aluguel, 46m²',\n",
       " 'Apartamento com 4 Quartos para Aluguel, 360m²',\n",
       " 'Apartamento com 2 Quartos para Aluguel, 128m²',\n",
       " 'Apartamento com 2 Quartos para Aluguel, 120m²',\n",
       " 'Apartamento com 2 Quartos para Aluguel, 64m²',\n",
       " 'Apartamento com Quarto para Aluguel, 26m²',\n",
       " 'Apartamento com Quarto para Aluguel, 31m²',\n",
       " 'Apartamento com 2 Quartos para Aluguel, 74m²',\n",
       " 'Apartamento com 3 Quartos para Aluguel, 126m²',\n",
       " 'Apartamento com 2 Quartos para Aluguel, 55m²',\n",
       " 'Apartamento com 2 Quartos para Aluguel, 74m²',\n",
       " 'Apartamento com 3 Quartos para Aluguel, 118m²',\n",
       " 'Apartamento com Quarto para Aluguel, 50m²',\n",
       " 'Apartamento com Quarto para Aluguel, 33m²',\n",
       " 'Apartamento com 2 Quartos para Aluguel, 219m²',\n",
       " 'Apartamento com 3 Quartos para Aluguel, 110m²',\n",
       " 'Apartamento com 2 Quartos para Aluguel, 61m²',\n",
       " 'Apartamento com 2 Quartos para Aluguel, 67m²',\n",
       " 'Apartamento com 2 Quartos para Aluguel, 48m²',\n",
       " 'Apartamento com Quarto para Aluguel, 43m²',\n",
       " 'Apartamento com Quarto para Aluguel, 38m²',\n",
       " 'Apartamento com Quarto para Aluguel, 50m²',\n",
       " 'Apartamento com 2 Quartos para Aluguel, 79m²',\n",
       " 'Apartamento com Quarto para Aluguel, 60m²',\n",
       " 'Apartamento com 3 Quartos para Aluguel, 135m²',\n",
       " 'Apartamento com 3 Quartos para Aluguel, 229m²',\n",
       " 'Apartamento com 3 Quartos para Aluguel, 87m²',\n",
       " 'Apartamento com 3 Quartos para Aluguel, 74m²',\n",
       " 'Apartamento com Quarto para Aluguel, 52m²',\n",
       " 'Apartamento com Quarto para Aluguel, 18m²',\n",
       " 'Apartamento com 2 Quartos para Aluguel, 50m²',\n",
       " 'Apartamento com Quarto para Aluguel, 32m²',\n",
       " 'Apartamento com 3 Quartos para Aluguel, 140m²',\n",
       " 'Apartamento com Quarto para Aluguel, 28m²',\n",
       " 'Apartamento com 3 Quartos para Aluguel, 98m²',\n",
       " 'Apartamento com 3 Quartos para Aluguel, 93m²',\n",
       " 'Apartamento com Quarto para Aluguel, 46m²',\n",
       " 'Apartamento com 4 Quartos para Aluguel, 360m²',\n",
       " 'Apartamento com 2 Quartos para Aluguel, 128m²',\n",
       " 'Apartamento com 2 Quartos para Aluguel, 120m²',\n",
       " 'Apartamento com 2 Quartos para Aluguel, 64m²',\n",
       " 'Apartamento com Quarto para Aluguel, 26m²',\n",
       " 'Apartamento com Quarto para Aluguel, 31m²',\n",
       " 'Apartamento com 2 Quartos para Aluguel, 74m²',\n",
       " 'Apartamento com 3 Quartos para Aluguel, 126m²',\n",
       " 'Apartamento com 2 Quartos para Aluguel, 55m²',\n",
       " 'Apartamento com 2 Quartos para Aluguel, 74m²',\n",
       " 'Apartamento com 3 Quartos para Aluguel, 118m²',\n",
       " 'Apartamento com Quarto para Aluguel, 50m²',\n",
       " 'Apartamento com Quarto para Aluguel, 33m²',\n",
       " 'Apartamento com 2 Quartos para Aluguel, 219m²',\n",
       " 'Apartamento com 3 Quartos para Aluguel, 110m²',\n",
       " 'Apartamento com 2 Quartos para Aluguel, 61m²',\n",
       " 'Apartamento com 2 Quartos para Aluguel, 67m²',\n",
       " 'Apartamento com 2 Quartos para Aluguel, 48m²',\n",
       " 'Apartamento com Quarto para Aluguel, 43m²',\n",
       " 'Apartamento com Quarto para Aluguel, 38m²',\n",
       " 'Apartamento com Quarto para Aluguel, 50m²',\n",
       " 'Apartamento com 2 Quartos para Aluguel, 79m²',\n",
       " 'Apartamento com Quarto para Aluguel, 60m²',\n",
       " 'Apartamento com 3 Quartos para Aluguel, 135m²',\n",
       " 'Apartamento com 3 Quartos para Aluguel, 229m²',\n",
       " 'Apartamento com 3 Quartos para Aluguel, 87m²',\n",
       " 'Apartamento com 3 Quartos para Aluguel, 74m²',\n",
       " 'Apartamento com Quarto para Aluguel, 52m²',\n",
       " 'Apartamento com Quarto para Aluguel, 18m²',\n",
       " 'Apartamento com 2 Quartos para Aluguel, 50m²',\n",
       " 'Apartamento com Quarto para Aluguel, 32m²',\n",
       " 'Apartamento com 3 Quartos para Aluguel, 140m²',\n",
       " 'Apartamento com Quarto para Aluguel, 28m²',\n",
       " 'Apartamento com 3 Quartos para Aluguel, 98m²',\n",
       " 'Apartamento com 3 Quartos para Aluguel, 93m²',\n",
       " 'Apartamento com Quarto para Aluguel, 46m²',\n",
       " 'Apartamento com 4 Quartos para Aluguel, 360m²',\n",
       " 'Apartamento com 2 Quartos para Aluguel, 128m²',\n",
       " 'Apartamento com 2 Quartos para Aluguel, 120m²',\n",
       " 'Apartamento com 2 Quartos para Aluguel, 64m²',\n",
       " 'Apartamento com Quarto para Aluguel, 26m²',\n",
       " 'Apartamento com Quarto para Aluguel, 31m²',\n",
       " 'Apartamento com 2 Quartos para Aluguel, 74m²',\n",
       " 'Apartamento com 3 Quartos para Aluguel, 126m²',\n",
       " 'Apartamento com 2 Quartos para Aluguel, 55m²',\n",
       " 'Apartamento com 2 Quartos para Aluguel, 74m²',\n",
       " 'Apartamento com 3 Quartos para Aluguel, 118m²',\n",
       " 'Apartamento com Quarto para Aluguel, 50m²',\n",
       " 'Apartamento com Quarto para Aluguel, 33m²',\n",
       " 'Apartamento com 2 Quartos para Aluguel, 219m²',\n",
       " 'Apartamento com 3 Quartos para Aluguel, 110m²',\n",
       " 'Apartamento com 2 Quartos para Aluguel, 61m²',\n",
       " 'Apartamento com 2 Quartos para Aluguel, 67m²',\n",
       " 'Apartamento com 2 Quartos para Aluguel, 48m²',\n",
       " 'Apartamento com Quarto para Aluguel, 43m²',\n",
       " 'Apartamento com Quarto para Aluguel, 38m²',\n",
       " 'Apartamento com Quarto para Aluguel, 50m²',\n",
       " 'Apartamento com 2 Quartos para Aluguel, 79m²',\n",
       " 'Apartamento com Quarto para Aluguel, 60m²',\n",
       " 'Apartamento com 3 Quartos para Aluguel, 135m²',\n",
       " 'Apartamento com 3 Quartos para Aluguel, 229m²',\n",
       " 'Apartamento com 3 Quartos para Aluguel, 87m²',\n",
       " 'Apartamento com 3 Quartos para Aluguel, 74m²',\n",
       " 'Apartamento com Quarto para Aluguel, 52m²',\n",
       " 'Apartamento com Quarto para Aluguel, 18m²',\n",
       " 'Apartamento com 2 Quartos para Aluguel, 50m²',\n",
       " 'Apartamento com Quarto para Aluguel, 32m²',\n",
       " 'Apartamento com 3 Quartos para Aluguel, 140m²',\n",
       " 'Apartamento com Quarto para Aluguel, 28m²',\n",
       " 'Apartamento com 3 Quartos para Aluguel, 98m²',\n",
       " 'Apartamento com 3 Quartos para Aluguel, 93m²',\n",
       " 'Apartamento com Quarto para Aluguel, 46m²',\n",
       " 'Apartamento com 4 Quartos para Aluguel, 360m²',\n",
       " 'Apartamento com 2 Quartos para Aluguel, 120m²',\n",
       " 'Apartamento com 2 Quartos para Aluguel, 64m²',\n",
       " 'Apartamento com Quarto para Aluguel, 26m²',\n",
       " 'Apartamento com Quarto para Aluguel, 31m²',\n",
       " 'Apartamento com 3 Quartos para Aluguel, 126m²',\n",
       " 'Apartamento com 2 Quartos para Aluguel, 55m²',\n",
       " 'Apartamento com 2 Quartos para Aluguel, 74m²',\n",
       " 'Apartamento com 3 Quartos para Aluguel, 118m²',\n",
       " 'Apartamento com Quarto para Aluguel, 50m²',\n",
       " 'Apartamento com Quarto para Aluguel, 33m²',\n",
       " 'Apartamento com 2 Quartos para Aluguel, 219m²',\n",
       " 'Apartamento com Quarto para Aluguel, 66m²',\n",
       " 'Apartamento com 3 Quartos para Aluguel, 110m²',\n",
       " 'Apartamento com 2 Quartos para Aluguel, 67m²',\n",
       " 'Apartamento com 2 Quartos para Aluguel, 48m²',\n",
       " 'Apartamento com Quarto para Aluguel, 43m²',\n",
       " 'Apartamento com Quarto para Aluguel, 38m²',\n",
       " 'Apartamento com Quarto para Aluguel, 50m²',\n",
       " 'Apartamento com 2 Quartos para Aluguel, 79m²',\n",
       " 'Apartamento com Quarto para Aluguel, 60m²',\n",
       " 'Apartamento com 3 Quartos para Aluguel, 135m²',\n",
       " 'Apartamento com 3 Quartos para Aluguel, 229m²',\n",
       " 'Apartamento com 3 Quartos para Aluguel, 87m²',\n",
       " 'Apartamento com 3 Quartos para Aluguel, 74m²',\n",
       " 'Apartamento com Quarto para Aluguel, 52m²',\n",
       " 'Apartamento com Quarto para Aluguel, 18m²',\n",
       " 'Apartamento com 2 Quartos para Aluguel, 50m²',\n",
       " 'Apartamento com Quarto para Aluguel, 32m²',\n",
       " 'Apartamento com 3 Quartos para Aluguel, 140m²',\n",
       " 'Apartamento com 3 Quartos para Aluguel, 200m²',\n",
       " 'Apartamento com Quarto para Aluguel, 57m²',\n",
       " 'Apartamento com 2 Quartos para Aluguel, 60m²',\n",
       " 'Apartamento com 3 Quartos para Aluguel, 98m²',\n",
       " 'Apartamento com 3 Quartos para Aluguel, 93m²',\n",
       " 'Apartamento com Quarto para Aluguel, 46m²']"
      ]
     },
     "execution_count": 31,
     "metadata": {},
     "output_type": "execute_result"
    }
   ],
   "source": [
    "list_titulo_anuncio"
   ]
  },
  {
   "cell_type": "markdown",
   "metadata": {},
   "source": [
    "## Endereço"
   ]
  },
  {
   "cell_type": "code",
   "execution_count": 32,
   "metadata": {},
   "outputs": [],
   "source": [
    "endereco = list()\n",
    "numeros = list()\n",
    "bairro =list()\n",
    "cidade = list()\n",
    "estado = list()"
   ]
  },
  {
   "cell_type": "code",
   "execution_count": 33,
   "metadata": {},
   "outputs": [],
   "source": [
    "# Desafio 3: Extrair as informações de endereço via regex"
   ]
  },
  {
   "cell_type": "code",
   "execution_count": 34,
   "metadata": {},
   "outputs": [
    {
     "data": {
      "application/vnd.jupyter.widget-view+json": {
       "model_id": "563b4a58358148ebb25b4da7e32949a1",
       "version_major": 2,
       "version_minor": 0
      },
      "text/plain": [
       "  0%|          | 0/180 [00:00<?, ?it/s]"
      ]
     },
     "metadata": {},
     "output_type": "display_data"
    }
   ],
   "source": [
    "for end in tqdm(list_endereco_anuncio):\n",
    "    \n",
    "    #Capturar as informações macro\n",
    "    tokens_macro = end.split(\"-\")\n",
    "    \n",
    "    #Endereço e número\n",
    "    endereco_numero = tokens_macro[0].split(\",\")\n",
    "    \n",
    "    if len(endereco_numero)>1:\n",
    "        endereco.append(endereco_numero[0].strip())\n",
    "        numeros.append(int(endereco_numero[1].strip()))\n",
    "    else:\n",
    "        endereco.append(endereco_numero[0].strip())\n",
    "        numeros.append(0)\n",
    "        \n",
    "    #Bairro e cidade\n",
    "    b, c = tokens_macro[1].split(',')\n",
    "    bairro.append(b.strip())\n",
    "    cidade.append(c.strip())\n",
    "    \n",
    "    #Estado\n",
    "    estado.append(tokens_macro[2].strip())"
   ]
  },
  {
   "cell_type": "markdown",
   "metadata": {
    "heading_collapsed": true
   },
   "source": [
    "## Area"
   ]
  },
  {
   "cell_type": "code",
   "execution_count": 35,
   "metadata": {
    "hidden": true
   },
   "outputs": [],
   "source": [
    "areas = [float(area.split(\" \")[0]) for area in list_area_anuncio]"
   ]
  },
  {
   "cell_type": "markdown",
   "metadata": {
    "heading_collapsed": true
   },
   "source": [
    "## Número de Quartos"
   ]
  },
  {
   "cell_type": "code",
   "execution_count": 36,
   "metadata": {
    "hidden": true
   },
   "outputs": [],
   "source": [
    "quartos = [int(q.split(\" \")[0]) for q in list_numero_quartos]"
   ]
  },
  {
   "cell_type": "markdown",
   "metadata": {
    "heading_collapsed": true
   },
   "source": [
    "## Número de banheiros"
   ]
  },
  {
   "cell_type": "code",
   "execution_count": 37,
   "metadata": {
    "hidden": true
   },
   "outputs": [],
   "source": [
    "banheiros = [int(b.split(\" \")[0]) for b in list_numero_banheiros]"
   ]
  },
  {
   "cell_type": "markdown",
   "metadata": {
    "heading_collapsed": true
   },
   "source": [
    "## Vagas de Garagem"
   ]
  },
  {
   "cell_type": "code",
   "execution_count": 38,
   "metadata": {
    "hidden": true
   },
   "outputs": [],
   "source": [
    "vagas_garagem = [int(g.split(\" \")[0]) if g != '-- Vaga' else 0 for g in list_numero_garagem]"
   ]
  },
  {
   "cell_type": "markdown",
   "metadata": {
    "heading_collapsed": true
   },
   "source": [
    "## Preço"
   ]
  },
  {
   "cell_type": "code",
   "execution_count": 39,
   "metadata": {
    "hidden": true
   },
   "outputs": [
    {
     "data": {
      "text/plain": [
       "3900.0"
      ]
     },
     "execution_count": 39,
     "metadata": {},
     "output_type": "execute_result"
    }
   ],
   "source": [
    "float('3.900'.replace(\".\",\"\"))"
   ]
  },
  {
   "cell_type": "code",
   "execution_count": 40,
   "metadata": {
    "hidden": true
   },
   "outputs": [],
   "source": [
    "precos = [float(p.split(\" \")[1].replace(\".\",\"\")) for p in list_preco]"
   ]
  },
  {
   "cell_type": "markdown",
   "metadata": {
    "heading_collapsed": true
   },
   "source": [
    "## Condominio"
   ]
  },
  {
   "cell_type": "code",
   "execution_count": 41,
   "metadata": {
    "hidden": true
   },
   "outputs": [],
   "source": [
    "condominio = [float(c.split(\" \")[-1].replace(\".\",\"\")) if c!= \"N/A\" else 0.0 for c in list_condominio]"
   ]
  },
  {
   "cell_type": "markdown",
   "metadata": {},
   "source": [
    "# Construindo Dataset"
   ]
  },
  {
   "cell_type": "code",
   "execution_count": 42,
   "metadata": {},
   "outputs": [],
   "source": [
    "dataset = pd.DataFrame({'Titulo': list_titulo_anuncio,\n",
    "                        'Endereco': endereco,\n",
    "                        'Numero': numeros,\n",
    "                        'Bairro': bairro,\n",
    "                        'Cidade': cidade,\n",
    "                        'Estado':estado,\n",
    "                       'Area': areas,\n",
    "                       'Quartos':quartos,\n",
    "                       'Banheiros':banheiros,\n",
    "                       'Vagas':vagas_garagem,\n",
    "                       'Preco':precos})\n"
   ]
  },
  {
   "cell_type": "code",
   "execution_count": 43,
   "metadata": {},
   "outputs": [
    {
     "data": {
      "text/html": [
       "<div>\n",
       "<style scoped>\n",
       "    .dataframe tbody tr th:only-of-type {\n",
       "        vertical-align: middle;\n",
       "    }\n",
       "\n",
       "    .dataframe tbody tr th {\n",
       "        vertical-align: top;\n",
       "    }\n",
       "\n",
       "    .dataframe thead th {\n",
       "        text-align: right;\n",
       "    }\n",
       "</style>\n",
       "<table border=\"1\" class=\"dataframe\">\n",
       "  <thead>\n",
       "    <tr style=\"text-align: right;\">\n",
       "      <th></th>\n",
       "      <th>Titulo</th>\n",
       "      <th>Endereco</th>\n",
       "      <th>Numero</th>\n",
       "      <th>Bairro</th>\n",
       "      <th>Cidade</th>\n",
       "      <th>Estado</th>\n",
       "      <th>Area</th>\n",
       "      <th>Quartos</th>\n",
       "      <th>Banheiros</th>\n",
       "      <th>Vagas</th>\n",
       "      <th>Preco</th>\n",
       "    </tr>\n",
       "  </thead>\n",
       "  <tbody>\n",
       "    <tr>\n",
       "      <th>0</th>\n",
       "      <td>Apartamento com 4 Quartos para Aluguel, 360m²</td>\n",
       "      <td>Rua Professor Tamandaré Toledo</td>\n",
       "      <td>104</td>\n",
       "      <td>Itaim Bibi</td>\n",
       "      <td>São Paulo</td>\n",
       "      <td>SP</td>\n",
       "      <td>360.0</td>\n",
       "      <td>4</td>\n",
       "      <td>4</td>\n",
       "      <td>2</td>\n",
       "      <td>13000.0</td>\n",
       "    </tr>\n",
       "    <tr>\n",
       "      <th>1</th>\n",
       "      <td>Apartamento com 2 Quartos para Aluguel, 120m²</td>\n",
       "      <td>Rua Tabapuã</td>\n",
       "      <td>38</td>\n",
       "      <td>Itaim Bibi</td>\n",
       "      <td>São Paulo</td>\n",
       "      <td>SP</td>\n",
       "      <td>120.0</td>\n",
       "      <td>2</td>\n",
       "      <td>2</td>\n",
       "      <td>1</td>\n",
       "      <td>8500.0</td>\n",
       "    </tr>\n",
       "    <tr>\n",
       "      <th>2</th>\n",
       "      <td>Apartamento com 2 Quartos para Aluguel, 64m²</td>\n",
       "      <td>Rua Dona Ana Neri</td>\n",
       "      <td>581</td>\n",
       "      <td>Cambuci</td>\n",
       "      <td>São Paulo</td>\n",
       "      <td>SP</td>\n",
       "      <td>64.0</td>\n",
       "      <td>2</td>\n",
       "      <td>2</td>\n",
       "      <td>1</td>\n",
       "      <td>4400.0</td>\n",
       "    </tr>\n",
       "    <tr>\n",
       "      <th>3</th>\n",
       "      <td>Apartamento com Quarto para Aluguel, 26m²</td>\n",
       "      <td>Rua Doutor Penaforte Mendes</td>\n",
       "      <td>157</td>\n",
       "      <td>Bela Vista</td>\n",
       "      <td>São Paulo</td>\n",
       "      <td>SP</td>\n",
       "      <td>26.0</td>\n",
       "      <td>1</td>\n",
       "      <td>1</td>\n",
       "      <td>1</td>\n",
       "      <td>1200.0</td>\n",
       "    </tr>\n",
       "    <tr>\n",
       "      <th>4</th>\n",
       "      <td>Apartamento com Quarto para Aluguel, 31m²</td>\n",
       "      <td>Rua Luiz Seráphico Júnior</td>\n",
       "      <td>430</td>\n",
       "      <td>Chácara Santo Antônio</td>\n",
       "      <td>São Paulo</td>\n",
       "      <td>SP</td>\n",
       "      <td>31.0</td>\n",
       "      <td>1</td>\n",
       "      <td>1</td>\n",
       "      <td>0</td>\n",
       "      <td>2000.0</td>\n",
       "    </tr>\n",
       "  </tbody>\n",
       "</table>\n",
       "</div>"
      ],
      "text/plain": [
       "                                          Titulo  \\\n",
       "0  Apartamento com 4 Quartos para Aluguel, 360m²   \n",
       "1  Apartamento com 2 Quartos para Aluguel, 120m²   \n",
       "2   Apartamento com 2 Quartos para Aluguel, 64m²   \n",
       "3      Apartamento com Quarto para Aluguel, 26m²   \n",
       "4      Apartamento com Quarto para Aluguel, 31m²   \n",
       "\n",
       "                         Endereco  Numero                 Bairro     Cidade  \\\n",
       "0  Rua Professor Tamandaré Toledo     104             Itaim Bibi  São Paulo   \n",
       "1                     Rua Tabapuã      38             Itaim Bibi  São Paulo   \n",
       "2               Rua Dona Ana Neri     581                Cambuci  São Paulo   \n",
       "3     Rua Doutor Penaforte Mendes     157             Bela Vista  São Paulo   \n",
       "4       Rua Luiz Seráphico Júnior     430  Chácara Santo Antônio  São Paulo   \n",
       "\n",
       "  Estado   Area  Quartos  Banheiros  Vagas    Preco  \n",
       "0     SP  360.0        4          4      2  13000.0  \n",
       "1     SP  120.0        2          2      1   8500.0  \n",
       "2     SP   64.0        2          2      1   4400.0  \n",
       "3     SP   26.0        1          1      1   1200.0  \n",
       "4     SP   31.0        1          1      0   2000.0  "
      ]
     },
     "execution_count": 43,
     "metadata": {},
     "output_type": "execute_result"
    }
   ],
   "source": [
    "dataset.head()"
   ]
  },
  {
   "cell_type": "markdown",
   "metadata": {},
   "source": [
    "## Bonus  = Amenidades"
   ]
  },
  {
   "cell_type": "code",
   "execution_count": 134,
   "metadata": {},
   "outputs": [],
   "source": [
    "df_amenidades = pd.DataFrame(list_amenidades)"
   ]
  },
  {
   "cell_type": "code",
   "execution_count": 135,
   "metadata": {},
   "outputs": [],
   "source": [
    "df_amenidades.columns = [f'col_{x}' for x in df_amenidades.columns]"
   ]
  },
  {
   "cell_type": "code",
   "execution_count": 136,
   "metadata": {},
   "outputs": [],
   "source": [
    "df_amenidades = df_amenidades.reset_index()"
   ]
  },
  {
   "cell_type": "code",
   "execution_count": 137,
   "metadata": {},
   "outputs": [
    {
     "data": {
      "text/plain": [
       "(180, 7)"
      ]
     },
     "execution_count": 137,
     "metadata": {},
     "output_type": "execute_result"
    }
   ],
   "source": [
    "df_amenidades.shape"
   ]
  },
  {
   "cell_type": "code",
   "execution_count": 142,
   "metadata": {},
   "outputs": [],
   "source": [
    "df_amenidades.fillna('...',inplace=True)"
   ]
  },
  {
   "cell_type": "code",
   "execution_count": 143,
   "metadata": {},
   "outputs": [],
   "source": [
    "df_amenidades_melt = pd.melt(df_amenidades,id_vars='index',value_vars = df_amenidades.columns)"
   ]
  },
  {
   "cell_type": "code",
   "execution_count": 151,
   "metadata": {},
   "outputs": [],
   "source": [
    "df_amenidades_final = pd.crosstab(df_amenidades_melt['index'],columns=df_amenidades_melt['value']).reset_index()"
   ]
  },
  {
   "cell_type": "code",
   "execution_count": 156,
   "metadata": {},
   "outputs": [],
   "source": [
    "df_amenidades_final.drop(columns=['index','...'],inplace=True)"
   ]
  },
  {
   "cell_type": "code",
   "execution_count": 159,
   "metadata": {},
   "outputs": [],
   "source": [
    "dataset = pd.concat([dataset,df_amenidades_final],axis=1)"
   ]
  },
  {
   "cell_type": "markdown",
   "metadata": {},
   "source": [
    "# Treino do modelo"
   ]
  },
  {
   "cell_type": "code",
   "execution_count": 178,
   "metadata": {},
   "outputs": [],
   "source": [
    "from sklearn.linear_model import LinearRegression\n",
    "from sklearn.model_selection import train_test_split\n",
    "from sklearn.metrics import mean_squared_error, mean_absolute_error\n",
    "import seaborn as sns"
   ]
  },
  {
   "cell_type": "markdown",
   "metadata": {},
   "source": [
    "## Dividir o dataset"
   ]
  },
  {
   "cell_type": "code",
   "execution_count": 161,
   "metadata": {},
   "outputs": [
    {
     "data": {
      "text/plain": [
       "Index(['Titulo', 'Endereco', 'Numero', 'Bairro', 'Cidade', 'Estado', 'Area',\n",
       "       'Quartos', 'Banheiros', 'Vagas', 'Preco', 'Academia', 'Aceita animais',\n",
       "       'Ar-condicionado', 'Bicicletário', 'Churrasqueira',\n",
       "       'Condomínio fechado', 'Cozinha americana', 'Dependência de empregados',\n",
       "       'Elevador', 'Espaço gourmet', 'Jardim', 'Mobiliado', 'Piscina',\n",
       "       'Playground', 'Portaria 24h', 'Portão eletrônico', 'Salão de festas',\n",
       "       'Sauna', 'Varanda'],\n",
       "      dtype='object')"
      ]
     },
     "execution_count": 161,
     "metadata": {},
     "output_type": "execute_result"
    }
   ],
   "source": [
    "dataset.columns"
   ]
  },
  {
   "cell_type": "code",
   "execution_count": 162,
   "metadata": {},
   "outputs": [],
   "source": [
    "X_columns =['Area','Quartos', 'Banheiros', 'Vagas', 'Academia', 'Aceita animais',\n",
    "           'Ar-condicionado', 'Bicicletário', 'Churrasqueira',\n",
    "           'Condomínio fechado', 'Cozinha americana', 'Dependência de empregados',\n",
    "           'Elevador', 'Espaço gourmet', 'Jardim', 'Mobiliado', 'Piscina',\n",
    "           'Playground', 'Portaria 24h', 'Portão eletrônico', 'Salão de festas',\n",
    "           'Sauna', 'Varanda']"
   ]
  },
  {
   "cell_type": "code",
   "execution_count": 163,
   "metadata": {},
   "outputs": [],
   "source": [
    "y_column = 'Preco'"
   ]
  },
  {
   "cell_type": "markdown",
   "metadata": {},
   "source": [
    "## Visualizando os dados"
   ]
  },
  {
   "cell_type": "code",
   "execution_count": 166,
   "metadata": {},
   "outputs": [
    {
     "data": {
      "text/plain": [
       "<seaborn.axisgrid.PairGrid at 0x1fa41b2d888>"
      ]
     },
     "execution_count": 166,
     "metadata": {},
     "output_type": "execute_result"
    },
    {
     "data": {
      "image/png": "[encoded data removed]",
      "text/plain": [
       "<Figure size 900x900 with 30 Axes>"
      ]
     },
     "metadata": {
      "needs_background": "light"
     },
     "output_type": "display_data"
    }
   ],
   "source": [
    "sns.pairplot(dataset[['Area','Quartos', 'Banheiros', 'Vagas','Preco']])"
   ]
  },
  {
   "cell_type": "markdown",
   "metadata": {},
   "source": [
    "## Divindo o dataset"
   ]
  },
  {
   "cell_type": "code",
   "execution_count": 168,
   "metadata": {},
   "outputs": [],
   "source": [
    "X_train, X_test, y_train, y_test = train_test_split(dataset[X_columns], dataset['Preco'], test_size=0.20, random_state=42)"
   ]
  },
  {
   "cell_type": "markdown",
   "metadata": {},
   "source": [
    "## Treinando o modelo"
   ]
  },
  {
   "cell_type": "code",
   "execution_count": 173,
   "metadata": {},
   "outputs": [
    {
     "data": {
      "text/html": [
       "<div>\n",
       "<style scoped>\n",
       "    .dataframe tbody tr th:only-of-type {\n",
       "        vertical-align: middle;\n",
       "    }\n",
       "\n",
       "    .dataframe tbody tr th {\n",
       "        vertical-align: top;\n",
       "    }\n",
       "\n",
       "    .dataframe thead th {\n",
       "        text-align: right;\n",
       "    }\n",
       "</style>\n",
       "<table border=\"1\" class=\"dataframe\">\n",
       "  <thead>\n",
       "    <tr style=\"text-align: right;\">\n",
       "      <th></th>\n",
       "      <th>Area</th>\n",
       "      <th>Quartos</th>\n",
       "      <th>Banheiros</th>\n",
       "      <th>Vagas</th>\n",
       "      <th>Academia</th>\n",
       "      <th>Aceita animais</th>\n",
       "      <th>Ar-condicionado</th>\n",
       "      <th>Bicicletário</th>\n",
       "      <th>Churrasqueira</th>\n",
       "      <th>Condomínio fechado</th>\n",
       "      <th>...</th>\n",
       "      <th>Espaço gourmet</th>\n",
       "      <th>Jardim</th>\n",
       "      <th>Mobiliado</th>\n",
       "      <th>Piscina</th>\n",
       "      <th>Playground</th>\n",
       "      <th>Portaria 24h</th>\n",
       "      <th>Portão eletrônico</th>\n",
       "      <th>Salão de festas</th>\n",
       "      <th>Sauna</th>\n",
       "      <th>Varanda</th>\n",
       "    </tr>\n",
       "  </thead>\n",
       "  <tbody>\n",
       "    <tr>\n",
       "      <th>count</th>\n",
       "      <td>180.000000</td>\n",
       "      <td>180.000000</td>\n",
       "      <td>180.000000</td>\n",
       "      <td>180.000000</td>\n",
       "      <td>180.000000</td>\n",
       "      <td>180.000000</td>\n",
       "      <td>180.000000</td>\n",
       "      <td>180.000000</td>\n",
       "      <td>180.000000</td>\n",
       "      <td>180.000000</td>\n",
       "      <td>...</td>\n",
       "      <td>180.000000</td>\n",
       "      <td>180.000000</td>\n",
       "      <td>180.000000</td>\n",
       "      <td>180.000000</td>\n",
       "      <td>180.000000</td>\n",
       "      <td>180.000000</td>\n",
       "      <td>180.000000</td>\n",
       "      <td>180.000000</td>\n",
       "      <td>180.000000</td>\n",
       "      <td>180.000000</td>\n",
       "    </tr>\n",
       "    <tr>\n",
       "      <th>mean</th>\n",
       "      <td>87.577778</td>\n",
       "      <td>1.972222</td>\n",
       "      <td>2.122222</td>\n",
       "      <td>1.116667</td>\n",
       "      <td>0.572222</td>\n",
       "      <td>0.461111</td>\n",
       "      <td>0.166667</td>\n",
       "      <td>0.027778</td>\n",
       "      <td>0.288889</td>\n",
       "      <td>0.588889</td>\n",
       "      <td>...</td>\n",
       "      <td>0.027778</td>\n",
       "      <td>0.111111</td>\n",
       "      <td>0.344444</td>\n",
       "      <td>0.622222</td>\n",
       "      <td>0.016667</td>\n",
       "      <td>0.222222</td>\n",
       "      <td>0.027778</td>\n",
       "      <td>0.072222</td>\n",
       "      <td>0.027778</td>\n",
       "      <td>0.083333</td>\n",
       "    </tr>\n",
       "    <tr>\n",
       "      <th>std</th>\n",
       "      <td>67.792153</td>\n",
       "      <td>0.880773</td>\n",
       "      <td>1.198955</td>\n",
       "      <td>0.785874</td>\n",
       "      <td>0.496137</td>\n",
       "      <td>0.499876</td>\n",
       "      <td>0.373718</td>\n",
       "      <td>0.164794</td>\n",
       "      <td>0.454510</td>\n",
       "      <td>0.493408</td>\n",
       "      <td>...</td>\n",
       "      <td>0.164794</td>\n",
       "      <td>0.315146</td>\n",
       "      <td>0.476512</td>\n",
       "      <td>0.486184</td>\n",
       "      <td>0.128376</td>\n",
       "      <td>0.416899</td>\n",
       "      <td>0.164794</td>\n",
       "      <td>0.259578</td>\n",
       "      <td>0.164794</td>\n",
       "      <td>0.277156</td>\n",
       "    </tr>\n",
       "    <tr>\n",
       "      <th>min</th>\n",
       "      <td>18.000000</td>\n",
       "      <td>1.000000</td>\n",
       "      <td>1.000000</td>\n",
       "      <td>0.000000</td>\n",
       "      <td>0.000000</td>\n",
       "      <td>0.000000</td>\n",
       "      <td>0.000000</td>\n",
       "      <td>0.000000</td>\n",
       "      <td>0.000000</td>\n",
       "      <td>0.000000</td>\n",
       "      <td>...</td>\n",
       "      <td>0.000000</td>\n",
       "      <td>0.000000</td>\n",
       "      <td>0.000000</td>\n",
       "      <td>0.000000</td>\n",
       "      <td>0.000000</td>\n",
       "      <td>0.000000</td>\n",
       "      <td>0.000000</td>\n",
       "      <td>0.000000</td>\n",
       "      <td>0.000000</td>\n",
       "      <td>0.000000</td>\n",
       "    </tr>\n",
       "    <tr>\n",
       "      <th>25%</th>\n",
       "      <td>48.000000</td>\n",
       "      <td>1.000000</td>\n",
       "      <td>1.000000</td>\n",
       "      <td>1.000000</td>\n",
       "      <td>0.000000</td>\n",
       "      <td>0.000000</td>\n",
       "      <td>0.000000</td>\n",
       "      <td>0.000000</td>\n",
       "      <td>0.000000</td>\n",
       "      <td>0.000000</td>\n",
       "      <td>...</td>\n",
       "      <td>0.000000</td>\n",
       "      <td>0.000000</td>\n",
       "      <td>0.000000</td>\n",
       "      <td>0.000000</td>\n",
       "      <td>0.000000</td>\n",
       "      <td>0.000000</td>\n",
       "      <td>0.000000</td>\n",
       "      <td>0.000000</td>\n",
       "      <td>0.000000</td>\n",
       "      <td>0.000000</td>\n",
       "    </tr>\n",
       "    <tr>\n",
       "      <th>50%</th>\n",
       "      <td>65.000000</td>\n",
       "      <td>2.000000</td>\n",
       "      <td>2.000000</td>\n",
       "      <td>1.000000</td>\n",
       "      <td>1.000000</td>\n",
       "      <td>0.000000</td>\n",
       "      <td>0.000000</td>\n",
       "      <td>0.000000</td>\n",
       "      <td>0.000000</td>\n",
       "      <td>1.000000</td>\n",
       "      <td>...</td>\n",
       "      <td>0.000000</td>\n",
       "      <td>0.000000</td>\n",
       "      <td>0.000000</td>\n",
       "      <td>1.000000</td>\n",
       "      <td>0.000000</td>\n",
       "      <td>0.000000</td>\n",
       "      <td>0.000000</td>\n",
       "      <td>0.000000</td>\n",
       "      <td>0.000000</td>\n",
       "      <td>0.000000</td>\n",
       "    </tr>\n",
       "    <tr>\n",
       "      <th>75%</th>\n",
       "      <td>112.000000</td>\n",
       "      <td>3.000000</td>\n",
       "      <td>3.000000</td>\n",
       "      <td>1.000000</td>\n",
       "      <td>1.000000</td>\n",
       "      <td>1.000000</td>\n",
       "      <td>0.000000</td>\n",
       "      <td>0.000000</td>\n",
       "      <td>1.000000</td>\n",
       "      <td>1.000000</td>\n",
       "      <td>...</td>\n",
       "      <td>0.000000</td>\n",
       "      <td>0.000000</td>\n",
       "      <td>1.000000</td>\n",
       "      <td>1.000000</td>\n",
       "      <td>0.000000</td>\n",
       "      <td>0.000000</td>\n",
       "      <td>0.000000</td>\n",
       "      <td>0.000000</td>\n",
       "      <td>0.000000</td>\n",
       "      <td>0.000000</td>\n",
       "    </tr>\n",
       "    <tr>\n",
       "      <th>max</th>\n",
       "      <td>360.000000</td>\n",
       "      <td>4.000000</td>\n",
       "      <td>6.000000</td>\n",
       "      <td>4.000000</td>\n",
       "      <td>1.000000</td>\n",
       "      <td>1.000000</td>\n",
       "      <td>1.000000</td>\n",
       "      <td>1.000000</td>\n",
       "      <td>1.000000</td>\n",
       "      <td>1.000000</td>\n",
       "      <td>...</td>\n",
       "      <td>1.000000</td>\n",
       "      <td>1.000000</td>\n",
       "      <td>1.000000</td>\n",
       "      <td>1.000000</td>\n",
       "      <td>1.000000</td>\n",
       "      <td>1.000000</td>\n",
       "      <td>1.000000</td>\n",
       "      <td>1.000000</td>\n",
       "      <td>1.000000</td>\n",
       "      <td>1.000000</td>\n",
       "    </tr>\n",
       "  </tbody>\n",
       "</table>\n",
       "<p>8 rows × 23 columns</p>\n",
       "</div>"
      ],
      "text/plain": [
       "             Area     Quartos   Banheiros       Vagas    Academia  \\\n",
       "count  180.000000  180.000000  180.000000  180.000000  180.000000   \n",
       "mean    87.577778    1.972222    2.122222    1.116667    0.572222   \n",
       "std     67.792153    0.880773    1.198955    0.785874    0.496137   \n",
       "min     18.000000    1.000000    1.000000    0.000000    0.000000   \n",
       "25%     48.000000    1.000000    1.000000    1.000000    0.000000   \n",
       "50%     65.000000    2.000000    2.000000    1.000000    1.000000   \n",
       "75%    112.000000    3.000000    3.000000    1.000000    1.000000   \n",
       "max    360.000000    4.000000    6.000000    4.000000    1.000000   \n",
       "\n",
       "       Aceita animais  Ar-condicionado  Bicicletário  Churrasqueira  \\\n",
       "count      180.000000       180.000000    180.000000     180.000000   \n",
       "mean         0.461111         0.166667      0.027778       0.288889   \n",
       "std          0.499876         0.373718      0.164794       0.454510   \n",
       "min          0.000000         0.000000      0.000000       0.000000   \n",
       "25%          0.000000         0.000000      0.000000       0.000000   \n",
       "50%          0.000000         0.000000      0.000000       0.000000   \n",
       "75%          1.000000         0.000000      0.000000       1.000000   \n",
       "max          1.000000         1.000000      1.000000       1.000000   \n",
       "\n",
       "       Condomínio fechado  ...  Espaço gourmet      Jardim   Mobiliado  \\\n",
       "count          180.000000  ...      180.000000  180.000000  180.000000   \n",
       "mean             0.588889  ...        0.027778    0.111111    0.344444   \n",
       "std              0.493408  ...        0.164794    0.315146    0.476512   \n",
       "min              0.000000  ...        0.000000    0.000000    0.000000   \n",
       "25%              0.000000  ...        0.000000    0.000000    0.000000   \n",
       "50%              1.000000  ...        0.000000    0.000000    0.000000   \n",
       "75%              1.000000  ...        0.000000    0.000000    1.000000   \n",
       "max              1.000000  ...        1.000000    1.000000    1.000000   \n",
       "\n",
       "          Piscina  Playground  Portaria 24h  Portão eletrônico  \\\n",
       "count  180.000000  180.000000    180.000000         180.000000   \n",
       "mean     0.622222    0.016667      0.222222           0.027778   \n",
       "std      0.486184    0.128376      0.416899           0.164794   \n",
       "min      0.000000    0.000000      0.000000           0.000000   \n",
       "25%      0.000000    0.000000      0.000000           0.000000   \n",
       "50%      1.000000    0.000000      0.000000           0.000000   \n",
       "75%      1.000000    0.000000      0.000000           0.000000   \n",
       "max      1.000000    1.000000      1.000000           1.000000   \n",
       "\n",
       "       Salão de festas       Sauna     Varanda  \n",
       "count       180.000000  180.000000  180.000000  \n",
       "mean          0.072222    0.027778    0.083333  \n",
       "std           0.259578    0.164794    0.277156  \n",
       "min           0.000000    0.000000    0.000000  \n",
       "25%           0.000000    0.000000    0.000000  \n",
       "50%           0.000000    0.000000    0.000000  \n",
       "75%           0.000000    0.000000    0.000000  \n",
       "max           1.000000    1.000000    1.000000  \n",
       "\n",
       "[8 rows x 23 columns]"
      ]
     },
     "execution_count": 173,
     "metadata": {},
     "output_type": "execute_result"
    }
   ],
   "source": [
    "# realizar a normalização dos dados para evitar enviesamento do modelo\n",
    "dataset[X_columns].describe()"
   ]
  },
  {
   "cell_type": "code",
   "execution_count": 172,
   "metadata": {},
   "outputs": [],
   "source": [
    "linear_model = LinearRegression()"
   ]
  },
  {
   "cell_type": "code",
   "execution_count": 174,
   "metadata": {},
   "outputs": [
    {
     "data": {
      "text/plain": [
       "LinearRegression(copy_X=True, fit_intercept=True, n_jobs=None, normalize=False)"
      ]
     },
     "execution_count": 174,
     "metadata": {},
     "output_type": "execute_result"
    }
   ],
   "source": [
    "linear_model.fit(X_train, y_train)"
   ]
  },
  {
   "cell_type": "code",
   "execution_count": 176,
   "metadata": {},
   "outputs": [],
   "source": [
    "# Realizando uma previsão\n",
    "predict = linear_model.predict(X_test)"
   ]
  },
  {
   "cell_type": "code",
   "execution_count": 177,
   "metadata": {},
   "outputs": [
    {
     "data": {
      "text/plain": [
       "2936007.96615193"
      ]
     },
     "execution_count": 177,
     "metadata": {},
     "output_type": "execute_result"
    }
   ],
   "source": [
    "# Visualizando o Erro\n",
    "mean_squared_error(y_test,predict)"
   ]
  },
  {
   "cell_type": "code",
   "execution_count": 179,
   "metadata": {},
   "outputs": [
    {
     "data": {
      "text/plain": [
       "1112.8966025614427"
      ]
     },
     "execution_count": 179,
     "metadata": {},
     "output_type": "execute_result"
    }
   ],
   "source": [
    "mean_absolute_error(y_test,predict)"
   ]
  },
  {
   "cell_type": "markdown",
   "metadata": {},
   "source": [
    "# Sugestões de  melhoria\n",
    "\n",
    "- Capturar mais informações\n",
    "- Realizar normalização dos dados\n",
    "- Otimizar os hiperparametros do modelo de regressão Linear\n",
    "- Tentar outros modelos\n",
    "\n",
    "- Valor a ser superado : Mean Absolute Error de R\\$ = 1112,89"
   ]
  },
  {
   "cell_type": "code",
   "execution_count": null,
   "metadata": {},
   "outputs": [],
   "source": []
  }
 ],
 "metadata": {
  "kernelspec": {
   "display_name": "Python 3 (ipykernel)",
   "language": "python",
   "name": "python3"
  },
  "language_info": {
   "codemirror_mode": {
    "name": "ipython",
    "version": 3
   },
   "file_extension": ".py",
   "mimetype": "text/x-python",
   "name": "python",
   "nbconvert_exporter": "python",
   "pygments_lexer": "ipython3",
   "version": "3.9.12"
  },
  "toc": {
   "base_numbering": 1,
   "nav_menu": {},
   "number_sections": true,
   "sideBar": true,
   "skip_h1_title": false,
   "title_cell": "Table of Contents",
   "title_sidebar": "Contents",
   "toc_cell": false,
   "toc_position": {},
   "toc_section_display": true,
   "toc_window_display": false
  }
 },
 "nbformat": 4,
 "nbformat_minor": 4
}
