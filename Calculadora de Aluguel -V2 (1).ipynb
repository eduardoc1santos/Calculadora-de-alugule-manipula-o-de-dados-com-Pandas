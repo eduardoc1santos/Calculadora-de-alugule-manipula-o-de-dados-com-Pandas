{
 "cells": [
  {
   "cell_type": "markdown",
   "metadata": {},
   "source": [
    "# Bibliotecas"
   ]
  },
  {
   "cell_type": "code",
   "execution_count": 93,
   "metadata": {},
   "outputs": [],
   "source": [
    "from selenium import webdriver\n",
    "from selenium.webdriver.common.by import By\n",
    "import time\n",
    "from tqdm.notebook import tqdm\n",
    "import pandas as pd"
   ]
  },
  {
   "cell_type": "code",
   "execution_count": 2,
   "metadata": {},
   "outputs": [],
   "source": [
    "driver = webdriver.Firefox()"
   ]
  },
  {
   "cell_type": "code",
   "execution_count": null,
   "metadata": {},
   "outputs": [],
   "source": [
    "#driver.implicitly_wait(10)\n",
    "#driver.maximize_window()"
   ]
  },
  {
   "cell_type": "markdown",
   "metadata": {},
   "source": [
    "# Capturando Site de Aluguel"
   ]
  },
  {
   "cell_type": "code",
   "execution_count": 3,
   "metadata": {},
   "outputs": [],
   "source": [
    "list_titulo_anuncio = list()\n",
    "list_endereco_anuncio = list()\n",
    "list_area_anuncio = list()\n",
    "list_numero_quartos = list()\n",
    "list_numero_banheiros = list()\n",
    "list_numero_garagem = list()\n",
    "list_preco = list()\n",
    "list_condominio = list()\n",
    "list_amenidades = list()"
   ]
  },
  {
   "cell_type": "code",
   "execution_count": 10,
   "metadata": {},
   "outputs": [],
   "source": [
    "# Desafios 1: Aumentar o número de busca para até 10 páginas\n",
    "# Desafios 2: Aumentar o filtro para capturar casas e apartamentos"
   ]
  },
  {
   "cell_type": "code",
   "execution_count": 4,
   "metadata": {
    "scrolled": true
   },
   "outputs": [
    {
     "data": {
      "application/vnd.jupyter.widget-view+json": {
       "model_id": "4fe18cd6eef14dc286b541d83846aa26",
       "version_major": 2,
       "version_minor": 0
      },
      "text/plain": [
       "  0%|          | 0/5 [00:00<?, ?it/s]"
      ]
     },
     "metadata": {},
     "output_type": "display_data"
    },
    {
     "data": {
      "application/vnd.jupyter.widget-view+json": {
       "model_id": "85a5eae7495b4a58ab90b74db8633fc7",
       "version_major": 2,
       "version_minor": 0
      },
      "text/plain": [
       "  0%|          | 0/36 [00:00<?, ?it/s]"
      ]
     },
     "metadata": {},
     "output_type": "display_data"
    },
    {
     "data": {
      "application/vnd.jupyter.widget-view+json": {
       "model_id": "23a4dfb2269045fb962f305528af7033",
       "version_major": 2,
       "version_minor": 0
      },
      "text/plain": [
       "  0%|          | 0/36 [00:00<?, ?it/s]"
      ]
     },
     "metadata": {},
     "output_type": "display_data"
    },
    {
     "data": {
      "application/vnd.jupyter.widget-view+json": {
       "model_id": "6a3b4d41a12b45f58679549d98a5bb2c",
       "version_major": 2,
       "version_minor": 0
      },
      "text/plain": [
       "  0%|          | 0/36 [00:00<?, ?it/s]"
      ]
     },
     "metadata": {},
     "output_type": "display_data"
    },
    {
     "data": {
      "application/vnd.jupyter.widget-view+json": {
       "model_id": "e6182ef87e9949d7bc2b48c92561fee0",
       "version_major": 2,
       "version_minor": 0
      },
      "text/plain": [
       "  0%|          | 0/36 [00:00<?, ?it/s]"
      ]
     },
     "metadata": {},
     "output_type": "display_data"
    },
    {
     "data": {
      "application/vnd.jupyter.widget-view+json": {
       "model_id": "bf47eb766afc47ea9efbfc18f80d9154",
       "version_major": 2,
       "version_minor": 0
      },
      "text/plain": [
       "  0%|          | 0/36 [00:00<?, ?it/s]"
      ]
     },
     "metadata": {},
     "output_type": "display_data"
    }
   ],
   "source": [
    "pbar = tqdm(range(1,6))\n",
    "\n",
    "for pagina in pbar:\n",
    "\n",
    "    #Acessando a pagina de acordo com o indice\n",
    "    url = f'https://www.vivareal.com.br/aluguel/sp/sao-paulo/apartamento_residencial/?pagina={pagina}'\n",
    "    \n",
    "    #TQDM com a informação de progresso\n",
    "    pbar.set_description(\"Processando página %s\" % pagina)\n",
    "\n",
    "    #Faz requisição de acesso a página\n",
    "    driver.get(url)\n",
    "\n",
    "    #Acessa os anuncios atraves do nome da Classe html\n",
    "    resultados = driver.find_elements(By.CLASS_NAME,'property-card__content')\n",
    "\n",
    "    pbar2 = tqdm(resultados)\n",
    "    for elemento_1 in pbar2:\n",
    "\n",
    "        list_titulo_anuncio.append(elemento_1.find_element(By.CLASS_NAME,'property-card__title').text)\n",
    "        list_endereco_anuncio.append(elemento_1.find_element(By.CLASS_NAME,'property-card__address-container').text)\n",
    "        list_area_anuncio.append(elemento_1.find_element(By.CLASS_NAME,'property-card__detail-area').text)\n",
    "        list_numero_quartos.append(elemento_1.find_element(By.CLASS_NAME,'property-card__detail-room').text)\n",
    "        list_numero_banheiros.append(elemento_1.find_element(By.CLASS_NAME,'property-card__detail-bathroom').text)\n",
    "        list_numero_garagem.append(elemento_1.find_element(By.CLASS_NAME,'property-card__detail-garage').text)\n",
    "        list_preco.append(elemento_1.find_element(By.CLASS_NAME,'property-card__price').text)\n",
    "        \n",
    "        #Caso não tenha condominio ele retorna N/A\n",
    "        try:\n",
    "            list_condominio.append(elemento_1.find_element(By.CLASS_NAME,'property-card__price-details--condo').text)\n",
    "        except:\n",
    "            list_condominio.append('N/A')\n",
    "            \n",
    "        amenidade = elemento_1.find_elements(By.CLASS_NAME,'amenities__item')\n",
    "        list_amenidades.append([am.text for am in amenidade])      \n",
    "    "
   ]
  },
  {
   "cell_type": "markdown",
   "metadata": {},
   "source": [
    "# Tratamento das informações"
   ]
  },
  {
   "cell_type": "code",
   "execution_count": null,
   "metadata": {},
   "outputs": [],
   "source": [
    "list_titulo_anuncio = list()\n",
    "list_endereco_anuncio = list()\n",
    "list_area_anuncio = list()\n",
    "list_numero_quartos = list()\n",
    "list_numero_banheiros = list()\n",
    "list_numero_garagem = list()\n",
    "list_preco = list()\n",
    "list_condominio = list()\n",
    "list_amenidades = list()"
   ]
  },
  {
   "cell_type": "markdown",
   "metadata": {
    "heading_collapsed": true
   },
   "source": [
    "## Titulo"
   ]
  },
  {
   "cell_type": "code",
   "execution_count": 9,
   "metadata": {
    "hidden": true
   },
   "outputs": [
    {
     "data": {
      "text/plain": [
       "['Apartamento com 2 Quartos para Aluguel, 75m²',\n",
       " 'Apartamento com Quarto para Aluguel, 32m²',\n",
       " 'Apartamento com 2 Quartos para Aluguel, 74m²',\n",
       " 'Apartamento com 3 Quartos para Aluguel, 110m²',\n",
       " 'Apartamento com 2 Quartos para Aluguel, 67m²',\n",
       " 'Apartamento com 2 Quartos para Aluguel, 128m²',\n",
       " 'Apartamento com 3 Quartos para Aluguel, 74m²',\n",
       " 'Apartamento com 2 Quartos para Aluguel, 75m²',\n",
       " 'Apartamento com 2 Quartos para Aluguel, 66m²',\n",
       " 'Apartamento com Quarto para Aluguel, 30m²',\n",
       " 'Apartamento com 3 Quartos para Aluguel, 143m²',\n",
       " 'Apartamento com Quarto para Aluguel, 18m²',\n",
       " 'Apartamento com Quarto para Aluguel, 47m²',\n",
       " 'Apartamento com 2 Quartos para Aluguel, 48m²',\n",
       " 'Apartamento com 3 Quartos para Aluguel, 200m²',\n",
       " 'Apartamento com Quarto para Aluguel, 66m²',\n",
       " 'Apartamento com Quarto para Aluguel, 40m²',\n",
       " 'Apartamento com 3 Quartos para Aluguel, 126m²',\n",
       " 'Apartamento com 2 Quartos para Aluguel, 64m²',\n",
       " 'Apartamento com Quarto para Aluguel, 43m²',\n",
       " 'Apartamento com 3 Quartos para Aluguel, 110m²',\n",
       " 'Apartamento com 4 Quartos para Aluguel, 255m²',\n",
       " 'Apartamento com 3 Quartos para Aluguel, 200m²',\n",
       " 'Apartamento com 4 Quartos para Aluguel, 360m²',\n",
       " 'Apartamento com Quarto para Aluguel, 28m²',\n",
       " 'Apartamento com Quarto para Aluguel, 32m²',\n",
       " 'Apartamento com 2 Quartos para Aluguel, 77m²',\n",
       " 'Apartamento com 2 Quartos para Aluguel, 219m²',\n",
       " 'Apartamento com 3 Quartos para Aluguel, 121m²',\n",
       " 'Apartamento com 3 Quartos para Aluguel, 86m²',\n",
       " 'Apartamento com Quarto para Aluguel, 31m²',\n",
       " 'Apartamento com 3 Quartos para Aluguel, 72m²',\n",
       " 'Apartamento com 3 Quartos para Aluguel, 100m²',\n",
       " 'Apartamento com 3 Quartos para Aluguel, 159m²',\n",
       " 'Apartamento com 3 Quartos para Aluguel, 118m²',\n",
       " 'Apartamento com 3 Quartos para Aluguel, 140m²',\n",
       " 'Apartamento com 2 Quartos para Aluguel, 75m²',\n",
       " 'Apartamento com Quarto para Aluguel, 32m²',\n",
       " 'Apartamento com 3 Quartos para Aluguel, 86m²',\n",
       " 'Apartamento com 2 Quartos para Aluguel, 74m²',\n",
       " 'Apartamento com 3 Quartos para Aluguel, 100m²',\n",
       " 'Apartamento com Quarto para Aluguel, 31m²',\n",
       " 'Apartamento com 2 Quartos para Aluguel, 75m²',\n",
       " 'Apartamento com 2 Quartos para Aluguel, 48m²',\n",
       " 'Apartamento com 2 Quartos para Aluguel, 74m²',\n",
       " 'Apartamento com Quarto para Aluguel, 66m²',\n",
       " 'Apartamento com Quarto para Aluguel, 40m²',\n",
       " 'Apartamento com Quarto para Aluguel, 30m²',\n",
       " 'Apartamento com 3 Quartos para Aluguel, 143m²',\n",
       " 'Apartamento com 3 Quartos para Aluguel, 126m²',\n",
       " 'Apartamento com 2 Quartos para Aluguel, 64m²',\n",
       " 'Apartamento com 2 Quartos para Aluguel, 128m²',\n",
       " 'Apartamento com 2 Quartos para Aluguel, 120m²',\n",
       " 'Apartamento com Quarto para Aluguel, 18m²',\n",
       " 'Apartamento com Quarto para Aluguel, 33m²',\n",
       " 'Apartamento com 3 Quartos para Aluguel, 110m²',\n",
       " 'Apartamento com Quarto para Aluguel, 47m²',\n",
       " 'Apartamento com 4 Quartos para Aluguel, 360m²',\n",
       " 'Apartamento com Quarto para Aluguel, 32m²',\n",
       " 'Apartamento com 2 Quartos para Aluguel, 219m²',\n",
       " 'Apartamento com 3 Quartos para Aluguel, 121m²',\n",
       " 'Apartamento com 3 Quartos para Aluguel, 72m²',\n",
       " 'Apartamento com 3 Quartos para Aluguel, 118m²',\n",
       " 'Apartamento com 3 Quartos para Aluguel, 82m²',\n",
       " 'Apartamento com 2 Quartos para Aluguel, 60m²',\n",
       " 'Apartamento com 3 Quartos para Aluguel, 159m²',\n",
       " 'Apartamento com Quarto para Aluguel, 60m²',\n",
       " 'Apartamento com 3 Quartos para Aluguel, 137m²',\n",
       " 'Apartamento com 2 Quartos para Aluguel, 72m²',\n",
       " 'Apartamento com 4 Quartos para Aluguel, 240m²',\n",
       " 'Apartamento com 3 Quartos para Aluguel, 74m²',\n",
       " 'Apartamento com Quarto para Aluguel, 75m²',\n",
       " 'Apartamento com 2 Quartos para Aluguel, 75m²',\n",
       " 'Apartamento com Quarto para Aluguel, 32m²',\n",
       " 'Apartamento com 2 Quartos para Aluguel, 74m²',\n",
       " 'Apartamento com 3 Quartos para Aluguel, 110m²',\n",
       " 'Apartamento com 2 Quartos para Aluguel, 67m²',\n",
       " 'Apartamento com 2 Quartos para Aluguel, 128m²',\n",
       " 'Apartamento com 3 Quartos para Aluguel, 74m²',\n",
       " 'Apartamento com 2 Quartos para Aluguel, 75m²',\n",
       " 'Apartamento com 2 Quartos para Aluguel, 66m²',\n",
       " 'Apartamento com Quarto para Aluguel, 30m²',\n",
       " 'Apartamento com 3 Quartos para Aluguel, 143m²',\n",
       " 'Apartamento com Quarto para Aluguel, 18m²',\n",
       " 'Apartamento com Quarto para Aluguel, 47m²',\n",
       " 'Apartamento com 2 Quartos para Aluguel, 48m²',\n",
       " 'Apartamento com 3 Quartos para Aluguel, 200m²',\n",
       " 'Apartamento com Quarto para Aluguel, 66m²',\n",
       " 'Apartamento com Quarto para Aluguel, 40m²',\n",
       " 'Apartamento com 3 Quartos para Aluguel, 126m²',\n",
       " 'Apartamento com 2 Quartos para Aluguel, 64m²',\n",
       " 'Apartamento com Quarto para Aluguel, 43m²',\n",
       " 'Apartamento com 3 Quartos para Aluguel, 110m²',\n",
       " 'Apartamento com 4 Quartos para Aluguel, 255m²',\n",
       " 'Apartamento com 3 Quartos para Aluguel, 200m²',\n",
       " 'Apartamento com 4 Quartos para Aluguel, 360m²',\n",
       " 'Apartamento com Quarto para Aluguel, 28m²',\n",
       " 'Apartamento com Quarto para Aluguel, 32m²',\n",
       " 'Apartamento com 2 Quartos para Aluguel, 77m²',\n",
       " 'Apartamento com 2 Quartos para Aluguel, 219m²',\n",
       " 'Apartamento com 3 Quartos para Aluguel, 121m²',\n",
       " 'Apartamento com 3 Quartos para Aluguel, 86m²',\n",
       " 'Apartamento com Quarto para Aluguel, 31m²',\n",
       " 'Apartamento com 3 Quartos para Aluguel, 72m²',\n",
       " 'Apartamento com 3 Quartos para Aluguel, 100m²',\n",
       " 'Apartamento com 3 Quartos para Aluguel, 159m²',\n",
       " 'Apartamento com 3 Quartos para Aluguel, 118m²',\n",
       " 'Apartamento com 3 Quartos para Aluguel, 140m²',\n",
       " 'Apartamento com 4 Quartos para Aluguel, 360m²',\n",
       " 'Apartamento com 2 Quartos para Aluguel, 64m²',\n",
       " 'Apartamento com 2 Quartos para Aluguel, 74m²',\n",
       " 'Apartamento com 3 Quartos para Aluguel, 110m²',\n",
       " 'Apartamento com 3 Quartos para Aluguel, 104m²',\n",
       " 'Apartamento com 2 Quartos para Aluguel, 67m²',\n",
       " 'Apartamento com 2 Quartos para Aluguel, 52m²',\n",
       " 'Apartamento com 2 Quartos para Aluguel, 128m²',\n",
       " 'Apartamento com 3 Quartos para Aluguel, 74m²',\n",
       " 'Apartamento com Quarto para Aluguel, 37m²',\n",
       " 'Apartamento com 2 Quartos para Aluguel, 75m²',\n",
       " 'Apartamento com 2 Quartos para Aluguel, 75m²',\n",
       " 'Apartamento com 2 Quartos para Aluguel, 219m²',\n",
       " 'Apartamento com 2 Quartos para Aluguel, 66m²',\n",
       " 'Apartamento com 3 Quartos para Aluguel, 126m²',\n",
       " 'Apartamento com Quarto para Aluguel, 18m²',\n",
       " 'Apartamento com Quarto para Aluguel, 47m²',\n",
       " 'Apartamento com 2 Quartos para Aluguel, 48m²',\n",
       " 'Apartamento com 3 Quartos para Aluguel, 200m²',\n",
       " 'Apartamento com Quarto para Aluguel, 66m²',\n",
       " 'Apartamento com Quarto para Aluguel, 40m²',\n",
       " 'Apartamento com 3 Quartos para Aluguel, 112m²',\n",
       " 'Apartamento com Quarto para Aluguel, 43m²',\n",
       " 'Apartamento com 3 Quartos para Aluguel, 118m²',\n",
       " 'Apartamento com 4 Quartos para Aluguel, 255m²',\n",
       " 'Apartamento com 3 Quartos para Aluguel, 200m²',\n",
       " 'Apartamento com Quarto para Aluguel, 20m²',\n",
       " 'Apartamento com Quarto para Aluguel, 28m²',\n",
       " 'Apartamento com 2 Quartos para Aluguel, 77m²',\n",
       " 'Apartamento com 3 Quartos para Aluguel, 137m²',\n",
       " 'Apartamento com 2 Quartos para Aluguel, 75m²',\n",
       " 'Apartamento com 3 Quartos para Aluguel, 86m²',\n",
       " 'Apartamento com Quarto para Aluguel, 31m²',\n",
       " 'Apartamento com 3 Quartos para Aluguel, 100m²',\n",
       " 'Apartamento com 3 Quartos para Aluguel, 159m²',\n",
       " 'Apartamento com 2 Quartos para Aluguel, 45m²',\n",
       " 'Apartamento com 4 Quartos para Aluguel, 360m²',\n",
       " 'Apartamento com 2 Quartos para Aluguel, 64m²',\n",
       " 'Apartamento com 2 Quartos para Aluguel, 74m²',\n",
       " 'Apartamento com 3 Quartos para Aluguel, 110m²',\n",
       " 'Apartamento com 3 Quartos para Aluguel, 104m²',\n",
       " 'Apartamento com 2 Quartos para Aluguel, 67m²',\n",
       " 'Apartamento com 2 Quartos para Aluguel, 52m²',\n",
       " 'Apartamento com 2 Quartos para Aluguel, 128m²',\n",
       " 'Apartamento com 3 Quartos para Aluguel, 74m²',\n",
       " 'Apartamento com Quarto para Aluguel, 37m²',\n",
       " 'Apartamento com 2 Quartos para Aluguel, 75m²',\n",
       " 'Apartamento com 2 Quartos para Aluguel, 75m²',\n",
       " 'Apartamento com 2 Quartos para Aluguel, 219m²',\n",
       " 'Apartamento com 2 Quartos para Aluguel, 66m²',\n",
       " 'Apartamento com 3 Quartos para Aluguel, 126m²',\n",
       " 'Apartamento com Quarto para Aluguel, 18m²',\n",
       " 'Apartamento com Quarto para Aluguel, 47m²',\n",
       " 'Apartamento com 2 Quartos para Aluguel, 48m²',\n",
       " 'Apartamento com 3 Quartos para Aluguel, 200m²',\n",
       " 'Apartamento com Quarto para Aluguel, 66m²',\n",
       " 'Apartamento com Quarto para Aluguel, 40m²',\n",
       " 'Apartamento com 3 Quartos para Aluguel, 112m²',\n",
       " 'Apartamento com Quarto para Aluguel, 43m²',\n",
       " 'Apartamento com 3 Quartos para Aluguel, 118m²',\n",
       " 'Apartamento com 4 Quartos para Aluguel, 255m²',\n",
       " 'Apartamento com 3 Quartos para Aluguel, 200m²',\n",
       " 'Apartamento com Quarto para Aluguel, 20m²',\n",
       " 'Apartamento com Quarto para Aluguel, 28m²',\n",
       " 'Apartamento com 2 Quartos para Aluguel, 77m²',\n",
       " 'Apartamento com 3 Quartos para Aluguel, 137m²',\n",
       " 'Apartamento com 2 Quartos para Aluguel, 75m²',\n",
       " 'Apartamento com 3 Quartos para Aluguel, 86m²',\n",
       " 'Apartamento com Quarto para Aluguel, 31m²',\n",
       " 'Apartamento com 3 Quartos para Aluguel, 100m²',\n",
       " 'Apartamento com 3 Quartos para Aluguel, 159m²',\n",
       " 'Apartamento com 2 Quartos para Aluguel, 45m²']"
      ]
     },
     "execution_count": 9,
     "metadata": {},
     "output_type": "execute_result"
    }
   ],
   "source": [
    "list_titulo_anuncio"
   ]
  },
  {
   "cell_type": "markdown",
   "metadata": {
    "heading_collapsed": true
   },
   "source": [
    "## Endereço"
   ]
  },
  {
   "cell_type": "code",
   "execution_count": 54,
   "metadata": {
    "hidden": true
   },
   "outputs": [],
   "source": [
    "endereco = list()\n",
    "numeros = list()\n",
    "bairro =list()\n",
    "cidade = list()\n",
    "estado = list()"
   ]
  },
  {
   "cell_type": "code",
   "execution_count": 55,
   "metadata": {
    "hidden": true
   },
   "outputs": [],
   "source": [
    "# Desafio 3: Extrair as informações de endereço via regex"
   ]
  },
  {
   "cell_type": "code",
   "execution_count": 56,
   "metadata": {
    "hidden": true
   },
   "outputs": [
    {
     "data": {
      "application/vnd.jupyter.widget-view+json": {
       "model_id": "4b7f05b53d55403b92a138935c99f60d",
       "version_major": 2,
       "version_minor": 0
      },
      "text/plain": [
       "  0%|          | 0/180 [00:00<?, ?it/s]"
      ]
     },
     "metadata": {},
     "output_type": "display_data"
    }
   ],
   "source": [
    "for end in tqdm(list_endereco_anuncio):\n",
    "    \n",
    "    #Capturar as informações macro\n",
    "    tokens_macro = end.split(\"-\")\n",
    "    \n",
    "    #Endereço e número\n",
    "    endereco_numero = tokens_macro[0].split(\",\")\n",
    "    \n",
    "    if len(endereco_numero)>1:\n",
    "        endereco.append(endereco_numero[0].strip())\n",
    "        numeros.append(int(endereco_numero[1].strip()))\n",
    "    else:\n",
    "        endereco.append(endereco_numero[0].strip())\n",
    "        numeros.append(0)\n",
    "        \n",
    "    #Bairro e cidade\n",
    "    b, c = tokens_macro[1].split(',')\n",
    "    bairro.append(b.strip())\n",
    "    cidade.append(c.strip())\n",
    "    \n",
    "    #Estado\n",
    "    estado.append(tokens_macro[2].strip())"
   ]
  },
  {
   "cell_type": "markdown",
   "metadata": {},
   "source": [
    "## Area"
   ]
  },
  {
   "cell_type": "code",
   "execution_count": 61,
   "metadata": {},
   "outputs": [],
   "source": [
    "areas = [float(area.split(\" \")[0]) for area in list_area_anuncio]"
   ]
  },
  {
   "cell_type": "markdown",
   "metadata": {},
   "source": [
    "## Número de Quartos"
   ]
  },
  {
   "cell_type": "code",
   "execution_count": 65,
   "metadata": {},
   "outputs": [],
   "source": [
    "quartos = [int(q.split(\" \")[0]) for q in list_numero_quartos]"
   ]
  },
  {
   "cell_type": "markdown",
   "metadata": {},
   "source": [
    "## Número de banheiros"
   ]
  },
  {
   "cell_type": "code",
   "execution_count": 68,
   "metadata": {},
   "outputs": [],
   "source": [
    "banheiros = [int(b.split(\" \")[0]) for b in list_numero_banheiros]"
   ]
  },
  {
   "cell_type": "markdown",
   "metadata": {},
   "source": [
    "## Vagas de Garagem"
   ]
  },
  {
   "cell_type": "code",
   "execution_count": 78,
   "metadata": {},
   "outputs": [],
   "source": [
    "vagas_garagem = [int(g.split(\" \")[0]) if g != '-- Vaga' else 0 for g in list_numero_garagem]"
   ]
  },
  {
   "cell_type": "markdown",
   "metadata": {},
   "source": [
    "## Preço"
   ]
  },
  {
   "cell_type": "code",
   "execution_count": 86,
   "metadata": {},
   "outputs": [
    {
     "data": {
      "text/plain": [
       "3900.0"
      ]
     },
     "execution_count": 86,
     "metadata": {},
     "output_type": "execute_result"
    }
   ],
   "source": [
    "float('3.900'.replace(\".\",\"\"))"
   ]
  },
  {
   "cell_type": "code",
   "execution_count": 87,
   "metadata": {},
   "outputs": [],
   "source": [
    "precos = [float(p.split(\" \")[1].replace(\".\",\"\")) for p in list_preco]"
   ]
  },
  {
   "cell_type": "markdown",
   "metadata": {},
   "source": [
    "## Condominio"
   ]
  },
  {
   "cell_type": "code",
   "execution_count": 90,
   "metadata": {},
   "outputs": [],
   "source": [
    "condominio = [float(c.split(\" \")[-1].replace(\".\",\"\")) if c!= \"N/A\" else 0.0 for c in list_condominio]"
   ]
  },
  {
   "cell_type": "markdown",
   "metadata": {},
   "source": [
    "# Construindo Dataset"
   ]
  },
  {
   "cell_type": "code",
   "execution_count": 94,
   "metadata": {},
   "outputs": [],
   "source": [
    "dataset = pd.DataFrame({'Titulo': list_titulo_anuncio,\n",
    "                        'Endereco': endereco,\n",
    "                        'Numero': numeros,\n",
    "                        'Bairro': bairro,\n",
    "                        'Cidade': cidade,\n",
    "                        'Estado':estado,\n",
    "                       'Area': areas,\n",
    "                       'Quartos':quartos,\n",
    "                       'Banheiros':banheiros,\n",
    "                       'Vagas':vagas_garagem,\n",
    "                       'Preco':precos})\n"
   ]
  },
  {
   "cell_type": "code",
   "execution_count": 95,
   "metadata": {},
   "outputs": [
    {
     "data": {
      "text/html": [
       "<div>\n",
       "<style scoped>\n",
       "    .dataframe tbody tr th:only-of-type {\n",
       "        vertical-align: middle;\n",
       "    }\n",
       "\n",
       "    .dataframe tbody tr th {\n",
       "        vertical-align: top;\n",
       "    }\n",
       "\n",
       "    .dataframe thead th {\n",
       "        text-align: right;\n",
       "    }\n",
       "</style>\n",
       "<table border=\"1\" class=\"dataframe\">\n",
       "  <thead>\n",
       "    <tr style=\"text-align: right;\">\n",
       "      <th></th>\n",
       "      <th>Titulo</th>\n",
       "      <th>Endereco</th>\n",
       "      <th>Numero</th>\n",
       "      <th>Bairro</th>\n",
       "      <th>Cidade</th>\n",
       "      <th>Estado</th>\n",
       "      <th>Area</th>\n",
       "      <th>Quartos</th>\n",
       "      <th>Banheiros</th>\n",
       "      <th>Vagas</th>\n",
       "      <th>Preco</th>\n",
       "    </tr>\n",
       "  </thead>\n",
       "  <tbody>\n",
       "    <tr>\n",
       "      <th>0</th>\n",
       "      <td>Apartamento com 2 Quartos para Aluguel, 75m²</td>\n",
       "      <td>Rua Canário</td>\n",
       "      <td>0</td>\n",
       "      <td>Moema</td>\n",
       "      <td>São Paulo</td>\n",
       "      <td>SP</td>\n",
       "      <td>75.0</td>\n",
       "      <td>2</td>\n",
       "      <td>3</td>\n",
       "      <td>2</td>\n",
       "      <td>5800.0</td>\n",
       "    </tr>\n",
       "    <tr>\n",
       "      <th>1</th>\n",
       "      <td>Apartamento com Quarto para Aluguel, 32m²</td>\n",
       "      <td>Rua Monte Aprazível</td>\n",
       "      <td>109</td>\n",
       "      <td>Vila Nova Conceição</td>\n",
       "      <td>São Paulo</td>\n",
       "      <td>SP</td>\n",
       "      <td>32.0</td>\n",
       "      <td>1</td>\n",
       "      <td>1</td>\n",
       "      <td>1</td>\n",
       "      <td>2800.0</td>\n",
       "    </tr>\n",
       "    <tr>\n",
       "      <th>2</th>\n",
       "      <td>Apartamento com 2 Quartos para Aluguel, 74m²</td>\n",
       "      <td>Rua Cristiano Viana</td>\n",
       "      <td>62</td>\n",
       "      <td>Pinheiros</td>\n",
       "      <td>São Paulo</td>\n",
       "      <td>SP</td>\n",
       "      <td>74.0</td>\n",
       "      <td>2</td>\n",
       "      <td>2</td>\n",
       "      <td>1</td>\n",
       "      <td>7300.0</td>\n",
       "    </tr>\n",
       "    <tr>\n",
       "      <th>3</th>\n",
       "      <td>Apartamento com 3 Quartos para Aluguel, 110m²</td>\n",
       "      <td>Rua Pedroso Alvarenga</td>\n",
       "      <td>333</td>\n",
       "      <td>Itaim Bibi</td>\n",
       "      <td>São Paulo</td>\n",
       "      <td>SP</td>\n",
       "      <td>110.0</td>\n",
       "      <td>3</td>\n",
       "      <td>3</td>\n",
       "      <td>1</td>\n",
       "      <td>6500.0</td>\n",
       "    </tr>\n",
       "    <tr>\n",
       "      <th>4</th>\n",
       "      <td>Apartamento com 2 Quartos para Aluguel, 67m²</td>\n",
       "      <td>Rua Nelson Gama de Oliveira</td>\n",
       "      <td>850</td>\n",
       "      <td>Vila Andrade</td>\n",
       "      <td>São Paulo</td>\n",
       "      <td>SP</td>\n",
       "      <td>67.0</td>\n",
       "      <td>2</td>\n",
       "      <td>2</td>\n",
       "      <td>1</td>\n",
       "      <td>2900.0</td>\n",
       "    </tr>\n",
       "  </tbody>\n",
       "</table>\n",
       "</div>"
      ],
      "text/plain": [
       "                                          Titulo                     Endereco  \\\n",
       "0   Apartamento com 2 Quartos para Aluguel, 75m²                  Rua Canário   \n",
       "1      Apartamento com Quarto para Aluguel, 32m²          Rua Monte Aprazível   \n",
       "2   Apartamento com 2 Quartos para Aluguel, 74m²          Rua Cristiano Viana   \n",
       "3  Apartamento com 3 Quartos para Aluguel, 110m²        Rua Pedroso Alvarenga   \n",
       "4   Apartamento com 2 Quartos para Aluguel, 67m²  Rua Nelson Gama de Oliveira   \n",
       "\n",
       "   Numero               Bairro     Cidade Estado   Area  Quartos  Banheiros  \\\n",
       "0       0                Moema  São Paulo     SP   75.0        2          3   \n",
       "1     109  Vila Nova Conceição  São Paulo     SP   32.0        1          1   \n",
       "2      62            Pinheiros  São Paulo     SP   74.0        2          2   \n",
       "3     333           Itaim Bibi  São Paulo     SP  110.0        3          3   \n",
       "4     850         Vila Andrade  São Paulo     SP   67.0        2          2   \n",
       "\n",
       "   Vagas   Preco  \n",
       "0      2  5800.0  \n",
       "1      1  2800.0  \n",
       "2      1  7300.0  \n",
       "3      1  6500.0  \n",
       "4      1  2900.0  "
      ]
     },
     "execution_count": 95,
     "metadata": {},
     "output_type": "execute_result"
    }
   ],
   "source": [
    "dataset.head()"
   ]
  },
  {
   "cell_type": "markdown",
   "metadata": {},
   "source": [
    "## Bonus  = Amenidades"
   ]
  },
  {
   "cell_type": "code",
   "execution_count": 102,
   "metadata": {},
   "outputs": [],
   "source": [
    "import numpy as np"
   ]
  },
  {
   "cell_type": "code",
   "execution_count": 107,
   "metadata": {},
   "outputs": [],
   "source": [
    "amenidades_itens = set()"
   ]
  },
  {
   "cell_type": "code",
   "execution_count": 108,
   "metadata": {},
   "outputs": [],
   "source": [
    "#Jeito feião!!!\n",
    "for item in list_amenidades:\n",
    "    \n",
    "    for i in item:\n",
    "        amenidades_itens.add(i)"
   ]
  },
  {
   "cell_type": "code",
   "execution_count": 111,
   "metadata": {},
   "outputs": [],
   "source": [
    "amenidades_itens = list(amenidades_itens)"
   ]
  },
  {
   "cell_type": "code",
   "execution_count": 113,
   "metadata": {},
   "outputs": [],
   "source": [
    "amenidades_itens = amenidades_itens[1:]"
   ]
  },
  {
   "cell_type": "code",
   "execution_count": 115,
   "metadata": {},
   "outputs": [
    {
     "data": {
      "text/plain": [
       "24"
      ]
     },
     "execution_count": 115,
     "metadata": {},
     "output_type": "execute_result"
    }
   ],
   "source": [
    "len(amenidades_itens)"
   ]
  },
  {
   "cell_type": "code",
   "execution_count": null,
   "metadata": {},
   "outputs": [],
   "source": []
  }
 ],
 "metadata": {
  "kernelspec": {
   "display_name": "Python 3 (ipykernel)",
   "language": "python",
   "name": "python3"
  },
  "language_info": {
   "codemirror_mode": {
    "name": "ipython",
    "version": 3
   },
   "file_extension": ".py",
   "mimetype": "text/x-python",
   "name": "python",
   "nbconvert_exporter": "python",
   "pygments_lexer": "ipython3",
   "version": "3.9.12"
  },
  "toc": {
   "base_numbering": 1,
   "nav_menu": {},
   "number_sections": true,
   "sideBar": true,
   "skip_h1_title": false,
   "title_cell": "Table of Contents",
   "title_sidebar": "Contents",
   "toc_cell": false,
   "toc_position": {},
   "toc_section_display": true,
   "toc_window_display": false
  }
 },
 "nbformat": 4,
 "nbformat_minor": 4
}
